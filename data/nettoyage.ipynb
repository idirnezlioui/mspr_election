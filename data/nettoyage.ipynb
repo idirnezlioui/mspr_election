import pandas as pd 
import numpy  as np

df=pd.read_excel("../data/resultats-par-niveau-burvot-t1-france-entiere.xlsx")
df.head(10)

print(df.shape[1])
nom_columns = ['N°Panneau', 'Sexe', 'Nom', 'Prénom', 'Voix', '% Voix/Ins', '% Voix/Exp']

for i in range (28,105):
    # Calcul de l'index dans nom_columns
    index_nom_columns = (i - 28) % len(nom_columns)
    # Attribution de la valeur correspondante à la colonne actuelle
    df.columns.values[i] = nom_columns[index_nom_columns]

df

colonne= df.columns.values
s=0
print(colonne)
for i in range(len(colonne)):
    if colonne[i]=="Nom":
        s=s+1
        print("la psition de la promier condidat est ",i)
    
print("le nombnre de condidats est ",s)
for i in range(len(colonne)):
    info=df.groupby(colonne[i]).size().reset_index(name='count')
    print(info)
traitement des fichier concernat le chomage 

import pandas as pd 
import numpy as np

df_chommage1=pd.read_csv("../data/FD_EEC_2019.csv",delimiter=";")
df_chommage1
print(df_chommage1.columns.values)
pd.set_option('display.max_rows', None)
info=df_chommage1.groupby("EMPNBH").size().reset_index(name='count') 
print(info)  
faire un traitement qui vas nous permettre d'affiche les information de toutes les colonnes

df_info = []

# Faire des itérations sur toutes les colonnes du dataset
for colonne in df_chommage1.columns:
    info = df_chommage1.groupby(colonne).size().reset_index(name='count')
    df_info.append(info)

# Afficher les informations des colonnes 
for i, colonne in enumerate(df_chommage1.columns):
    print(f"Information pour la colonne {colonne}:")
    print(df_info[i])
    print("\n")



pd.set_option('display.max_rows', None)
nb_nan=df_chommage1.isna().sum()
print("la taille du dataset est: ",df_chommage1.shape)
print(nb_nan)

# Calculer le seuil pour les valeurs manquantes
seuil = len(df_chommage1) * 0.10
# Supprimer les colonnes avec plus de 10% de valeurs manquantes
df_chommage1 = df_chommage1.dropna(thresh=seuil, axis=1)
df_chommage1
df_chommage2=pd.read_csv("../data/Varmod_EEC_2019.csv",delimiter=";")
df_chommage2
